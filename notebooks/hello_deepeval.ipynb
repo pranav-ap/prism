{
 "cells": [
  {
   "cell_type": "code",
   "id": "initial_id",
   "metadata": {
    "collapsed": true,
    "ExecuteTime": {
     "end_time": "2025-07-26T11:01:21.381837Z",
     "start_time": "2025-07-26T11:01:21.323035Z"
    }
   },
   "source": [
    "from deepeval.synthesizer import Synthesizer\n",
    "from deepeval.models import OllamaModel\n",
    "from deepeval.synthesizer.config import FiltrationConfig\n",
    "from deepeval.synthesizer.config import StylingConfig\n",
    "\n",
    "\n",
    "model = OllamaModel(\n",
    "    model=\"llama3.2:3b-instruct-fp16\",\n",
    "    base_url=\"http://localhost:11434\"\n",
    ")\n",
    "\n",
    "filtration_config = FiltrationConfig(\n",
    "    critic_model=model,\n",
    "    synthetic_input_quality_threshold=0.5\n",
    ")\n",
    "\n",
    "\n",
    "styling_config = StylingConfig(\n",
    "    input_format=\"A tweet expressing an opinion on a controversial topic\",\n",
    "    expected_output_format=\"A tweet that contradicts the input tweet\",\n",
    "    task=\"Detect if a user's tweets matches one of the three relationships ['Contradiction', 'No Contradiction', 'Not Comparable']\",\n",
    "    scenario=\"Identifying whether a user's tweets reflect opinion shifts, inconsistencies, or attempts to hide prior statements.\",\n",
    ")\n",
    "\n",
    "synthesizer = Synthesizer(\n",
    "    model=model,\n",
    "    filtration_config=filtration_config,\n",
    "    styling_config=styling_config,\n",
    ")"
   ],
   "outputs": [],
   "execution_count": 17
  },
  {
   "metadata": {
    "ExecuteTime": {
     "end_time": "2025-07-26T11:02:20.561075Z",
     "start_time": "2025-07-26T11:01:22.511303Z"
    }
   },
   "cell_type": "code",
   "source": [
    "goldens = synthesizer.generate_goldens_from_scratch(num_goldens=1)\n",
    "goldens"
   ],
   "id": "9e00b9bd46823ac1",
   "outputs": [
    {
     "data": {
      "text/plain": [
       "Output()"
      ],
      "application/vnd.jupyter.widget-view+json": {
       "version_major": 2,
       "version_minor": 0,
       "model_id": "5947ac3675064f52b58b507b3e24f0f1"
      }
     },
     "metadata": {},
     "output_type": "display_data"
    },
    {
     "data": {
      "text/plain": [],
      "text/html": [
       "<pre style=\"white-space:pre;overflow-x:auto;line-height:normal;font-family:Menlo,'DejaVu Sans Mono',consolas,'Courier New',monospace\"></pre>\n"
      ]
     },
     "metadata": {},
     "output_type": "display_data"
    },
    {
     "data": {
      "text/plain": [
       "[Golden(input='Here\\'s a rewritten version of your input:\\n\\nIs climate change\\'s impact on global food systems comparable to its effects on polar ice caps?\\n\\n(I\\'ve followed the guidelines you provided: \\n\\n1. Focused on comparing two entities (climate change\\'s impact and polar ice caps)\\n2. Encouraged a detailed comparison highlighting similarities and differences\\n3. Kept it concise and understandable by humans\\n4. Used abbreviation (\"global\" instead of \"global food systems\")', actual_output=None, expected_output=None, context=None, retrieval_context=None, additional_metadata={'evolutions': ['Comparative']}, comments=None, tools_called=None, expected_tools=None, source_file=None, name=None, custom_column_key_values=None)]"
      ]
     },
     "execution_count": 18,
     "metadata": {},
     "output_type": "execute_result"
    }
   ],
   "execution_count": 18
  },
  {
   "metadata": {},
   "cell_type": "code",
   "outputs": [],
   "execution_count": null,
   "source": "",
   "id": "1a139a8128d55895"
  }
 ],
 "metadata": {
  "kernelspec": {
   "display_name": "Python 3",
   "language": "python",
   "name": "python3"
  },
  "language_info": {
   "codemirror_mode": {
    "name": "ipython",
    "version": 2
   },
   "file_extension": ".py",
   "mimetype": "text/x-python",
   "name": "python",
   "nbconvert_exporter": "python",
   "pygments_lexer": "ipython2",
   "version": "2.7.6"
  }
 },
 "nbformat": 4,
 "nbformat_minor": 5
}
