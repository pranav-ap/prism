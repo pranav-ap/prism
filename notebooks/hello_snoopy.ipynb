{
 "cells": [
  {
   "cell_type": "code",
   "id": "initial_id",
   "metadata": {
    "collapsed": true,
    "ExecuteTime": {
     "end_time": "2025-07-22T17:29:57.263185Z",
     "start_time": "2025-07-22T17:29:45.168030Z"
    }
   },
   "source": [
    "from transformers import pipeline\n",
    "\n",
    "classifier = pipeline(\"text-classification\", model=\"facebook/bart-large-mnli\")"
   ],
   "outputs": [
    {
     "name": "stderr",
     "output_type": "stream",
     "text": [
      "Device set to use cpu\n"
     ]
    }
   ],
   "execution_count": 1
  },
  {
   "metadata": {
    "ExecuteTime": {
     "end_time": "2025-07-22T17:30:56.005379Z",
     "start_time": "2025-07-22T17:30:55.662614Z"
    }
   },
   "cell_type": "code",
   "source": [
    "# premise = \"The economy is growing rapidly.\"\n",
    "# hypothesis = \"The economy is in a recession.\"\n",
    "\n",
    "premise = \"The economy is growing rapidly.\"\n",
    "hypothesis = \"The government announced new infrastructure projects.\"\n",
    "\n",
    "res = classifier([f\"{premise} </s> {hypothesis}\", f\"{premise} </s> {hypothesis}\"], top_k=1)\n",
    "print(res)"
   ],
   "id": "ba297870b9d38aca",
   "outputs": [
    {
     "name": "stdout",
     "output_type": "stream",
     "text": [
      "[[{'label': 'neutral', 'score': 0.9987346529960632}], [{'label': 'neutral', 'score': 0.9987346529960632}]]\n"
     ]
    }
   ],
   "execution_count": 5
  },
  {
   "metadata": {
    "ExecuteTime": {
     "end_time": "2025-09-17T09:41:03.162868Z",
     "start_time": "2025-09-17T09:40:53.468504Z"
    }
   },
   "cell_type": "code",
   "source": [
    "import torch\n",
    "\n",
    "torch.cuda.is_available()"
   ],
   "id": "ce33dd54c1c7425b",
   "outputs": [
    {
     "data": {
      "text/plain": [
       "False"
      ]
     },
     "execution_count": 1,
     "metadata": {},
     "output_type": "execute_result"
    }
   ],
   "execution_count": 1
  },
  {
   "metadata": {
    "ExecuteTime": {
     "end_time": "2025-09-17T09:41:07.333202Z",
     "start_time": "2025-09-17T09:41:07.316290Z"
    }
   },
   "cell_type": "code",
   "source": [
    "# print torch version and cuda version\n",
    "print(torch.__version__)\n",
    "print(torch.version.cuda)"
   ],
   "id": "4b8c3289a10eb463",
   "outputs": [
    {
     "name": "stdout",
     "output_type": "stream",
     "text": [
      "2.8.0+cpu\n",
      "None\n"
     ]
    }
   ],
   "execution_count": 2
  },
  {
   "metadata": {
    "ExecuteTime": {
     "end_time": "2025-07-25T10:02:21.728747Z",
     "start_time": "2025-07-25T10:02:00.539046Z"
    }
   },
   "cell_type": "code",
   "source": [
    "from litellm import completion\n",
    "\n",
    "\n",
    "tweet1 = \"Tesla just announced record profits this quarter. EV demand is booming!\"\n",
    "tweet2 = \"Tesla is struggling with massive losses and plummeting EV sales this quarter.\"\n",
    "\n",
    "# tweet1 = \"Tesla just announced record profits this quarter. EV demand is booming!\"\n",
    "# tweet2 = \"Tesla profits this quarter are very high!\"\n",
    "\n",
    "is_comparable_message = (\n",
    "f\"\"\"Given two tweets, determine whether they are discussing the same event, claim, or specific topic in a way that makes them worth comparing for logical contradiction.\n",
    "\n",
    "Respond only with \"Yes\" if the tweets are semantically or factually related enough to potentially contradict each other. Respond \"No\" if they discuss unrelated topics, different products, different times, or do not make comparable claims.\n",
    "\n",
    "In the reason field also provide a reason for your answer, explaining why the tweets are or are not comparable.\n",
    "\n",
    "Tweet 1: {tweet1}\n",
    "Tweet 2: {tweet2}\n",
    "\n",
    "\"Does Tweet 2 contradict Tweet 1?\"\"\"\n",
    ")\n",
    "\n",
    "message = (\n",
    "f\"\"\"You are given two tweets.\n",
    "\n",
    "Determine the logical relationship between them by choosing one of the following answers:\n",
    "- \"Contradiction\" → if the tweets make opposing or incompatible claims about the same topic or event.\n",
    "- \"No Contradiction\" → if the tweets are about the same topic or event, but do not contradict each other.\n",
    "- \"Not Comparable\" → if the tweets are about different topics, unrelated events, or lack comparable claims.\n",
    "\n",
    "Then, provide a short explanation for your answer in the reason field.\n",
    "\n",
    "Tweet 1: {tweet1}\n",
    "Tweet 2: {tweet2}\n",
    "\n",
    "Answer:\"\"\"\n",
    ")\n",
    "\n",
    "print(message)\n",
    "\n",
    "response = completion(\n",
    "            model=\"ollama/llama3.2:3b-instruct-fp16\",\n",
    "            messages = [{\n",
    "                \"content\": message,\n",
    "                \"role\": \"user\"\n",
    "            }],\n",
    "            temperature=0,\n",
    "            api_base=\"http://localhost:11434\",\n",
    "            response_format={\n",
    "                \"type\": \"json_schema\",\n",
    "                \"json_schema\": {\n",
    "                    \"schema\": {\n",
    "                        \"type\": \"object\",\n",
    "                        \"properties\": {\n",
    "                            \"answer\": {\"type\": \"string\"},\n",
    "                            \"reason\": {\"type\": \"string\"},\n",
    "                        }\n",
    "                    }\n",
    "                }\n",
    "            },\n",
    ")\n",
    "\n",
    "response_text = response[\"choices\"][0][\"message\"][\"content\"]\n",
    "response_text = response_text.strip().lower()\n",
    "print(response_text)"
   ],
   "id": "a0d19f910064fae6",
   "outputs": [
    {
     "name": "stdout",
     "output_type": "stream",
     "text": [
      "You are given two tweets.\n",
      "\n",
      "Determine the logical relationship between them by choosing one of the following answers:\n",
      "- \"Contradiction\" → if the tweets make opposing or incompatible claims about the same topic or event.\n",
      "- \"No Contradiction\" → if the tweets are about the same topic or event, but do not contradict each other.\n",
      "- \"Not Comparable\" → if the tweets are about different topics, unrelated events, or lack comparable claims.\n",
      "\n",
      "Then, provide a short explanation for your answer in the reason field.\n",
      "\n",
      "Tweet 1: Tesla just announced record profits this quarter. EV demand is booming!\n",
      "Tweet 2: Tesla is struggling with massive losses and plummeting EV sales this quarter.\n",
      "\n",
      "Answer:\n",
      "{\"answer\": \"contradiction\", \"reason\": \"the two tweets present opposing claims about the same topic, tesla's financial performance, specifically mentioning record profits in one tweet and massive losses and plummeting ev sales in another.\"}\n"
     ]
    }
   ],
   "execution_count": 12
  },
  {
   "metadata": {
    "ExecuteTime": {
     "end_time": "2025-07-25T10:08:53.976563Z",
     "start_time": "2025-07-25T10:08:53.958360Z"
    }
   },
   "cell_type": "code",
   "source": [
    "import json\n",
    "\n",
    "json.loads(response_text)"
   ],
   "id": "4d3a2091b10a2c56",
   "outputs": [
    {
     "data": {
      "text/plain": [
       "{'answer': 'contradiction',\n",
       " 'reason': \"the two tweets present opposing claims about the same topic, tesla's financial performance, specifically mentioning record profits in one tweet and massive losses and plummeting ev sales in another.\"}"
      ]
     },
     "execution_count": 15,
     "metadata": {},
     "output_type": "execute_result"
    }
   ],
   "execution_count": 15
  },
  {
   "metadata": {},
   "cell_type": "code",
   "outputs": [],
   "execution_count": null,
   "source": "",
   "id": "9888437fb2eb0b5e"
  }
 ],
 "metadata": {
  "kernelspec": {
   "display_name": "Python 3",
   "language": "python",
   "name": "python3"
  },
  "language_info": {
   "codemirror_mode": {
    "name": "ipython",
    "version": 2
   },
   "file_extension": ".py",
   "mimetype": "text/x-python",
   "name": "python",
   "nbconvert_exporter": "python",
   "pygments_lexer": "ipython2",
   "version": "2.7.6"
  }
 },
 "nbformat": 4,
 "nbformat_minor": 5
}
