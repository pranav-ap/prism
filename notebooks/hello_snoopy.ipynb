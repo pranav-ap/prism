{
 "cells": [
  {
   "cell_type": "code",
   "id": "initial_id",
   "metadata": {
    "collapsed": true,
    "ExecuteTime": {
     "end_time": "2025-07-22T17:29:57.263185Z",
     "start_time": "2025-07-22T17:29:45.168030Z"
    }
   },
   "source": [
    "from transformers import pipeline\n",
    "\n",
    "classifier = pipeline(\"text-classification\", model=\"facebook/bart-large-mnli\")"
   ],
   "outputs": [
    {
     "name": "stderr",
     "output_type": "stream",
     "text": [
      "Device set to use cpu\n"
     ]
    }
   ],
   "execution_count": 1
  },
  {
   "metadata": {
    "ExecuteTime": {
     "end_time": "2025-07-22T17:30:56.005379Z",
     "start_time": "2025-07-22T17:30:55.662614Z"
    }
   },
   "cell_type": "code",
   "source": [
    "# premise = \"The economy is growing rapidly.\"\n",
    "# hypothesis = \"The economy is in a recession.\"\n",
    "\n",
    "premise = \"The economy is growing rapidly.\"\n",
    "hypothesis = \"The government announced new infrastructure projects.\"\n",
    "\n",
    "res = classifier([f\"{premise} </s> {hypothesis}\", f\"{premise} </s> {hypothesis}\"], top_k=1)\n",
    "print(res)"
   ],
   "id": "ba297870b9d38aca",
   "outputs": [
    {
     "name": "stdout",
     "output_type": "stream",
     "text": [
      "[[{'label': 'neutral', 'score': 0.9987346529960632}], [{'label': 'neutral', 'score': 0.9987346529960632}]]\n"
     ]
    }
   ],
   "execution_count": 5
  },
  {
   "metadata": {
    "ExecuteTime": {
     "end_time": "2025-07-22T18:46:00.813896Z",
     "start_time": "2025-07-22T18:45:56.627172Z"
    }
   },
   "cell_type": "code",
   "source": [
    "import torch\n",
    "\n",
    "torch.cuda.is_available()"
   ],
   "id": "ce33dd54c1c7425b",
   "outputs": [
    {
     "data": {
      "text/plain": [
       "True"
      ]
     },
     "execution_count": 1,
     "metadata": {},
     "output_type": "execute_result"
    }
   ],
   "execution_count": 1
  },
  {
   "metadata": {},
   "cell_type": "code",
   "outputs": [],
   "execution_count": null,
   "source": "",
   "id": "a0d19f910064fae6"
  }
 ],
 "metadata": {
  "kernelspec": {
   "display_name": "Python 3",
   "language": "python",
   "name": "python3"
  },
  "language_info": {
   "codemirror_mode": {
    "name": "ipython",
    "version": 2
   },
   "file_extension": ".py",
   "mimetype": "text/x-python",
   "name": "python",
   "nbconvert_exporter": "python",
   "pygments_lexer": "ipython2",
   "version": "2.7.6"
  }
 },
 "nbformat": 4,
 "nbformat_minor": 5
}
