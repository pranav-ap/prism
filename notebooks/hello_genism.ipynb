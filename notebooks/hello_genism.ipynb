{
 "cells": [
  {
   "metadata": {
    "ExecuteTime": {
     "end_time": "2025-07-22T11:49:52.398360Z",
     "start_time": "2025-07-22T11:49:52.390786Z"
    }
   },
   "cell_type": "code",
   "source": [
    "tweets = [\n",
    "    # Politics\n",
    "    \"Parliament just passed a bill that could reshape the tax system.\",\n",
    "    \"The presidential debate last night was pure chaos. No clear winner.\",\n",
    "\n",
    "    # Entertainment\n",
    "    \"Can’t believe how good the new season of that sci-fi show is!\",\n",
    "    \"Beyoncé dropped a surprise album and it’s 🔥🔥🔥\",\n",
    "\n",
    "    # Sports\n",
    "    \"That last-minute goal in the Champions League was legendary.\",\n",
    "    \"Injuries are killing our fantasy football teams this year.\",\n",
    "\n",
    "    # Science\n",
    "    \"NASA confirmed water molecules on the sunlit surface of the Moon!\",\n",
    "    \"A new study suggests octopuses might dream. Nature is wild.\",\n",
    "\n",
    "    # Technology\n",
    "    \"OpenAI’s latest model just broke benchmarks in code generation.\",\n",
    "    \"The new foldable phone actually feels like the future.\",\n",
    "]"
   ],
   "id": "ad98c88c60b1d95",
   "outputs": [],
   "execution_count": 15
  },
  {
   "metadata": {
    "ExecuteTime": {
     "end_time": "2025-07-22T11:49:56.758410Z",
     "start_time": "2025-07-22T11:49:55.260693Z"
    }
   },
   "cell_type": "code",
   "source": [
    "from transformers import pipeline\n",
    "\n",
    "classifier = pipeline(\"zero-shot-classification\", model=\"facebook/bart-large-mnli\")"
   ],
   "id": "2ea641090c3d698e",
   "outputs": [
    {
     "name": "stderr",
     "output_type": "stream",
     "text": [
      "Device set to use cpu\n"
     ]
    }
   ],
   "execution_count": 16
  },
  {
   "metadata": {
    "ExecuteTime": {
     "end_time": "2025-07-22T11:50:48.777588Z",
     "start_time": "2025-07-22T11:50:39.090062Z"
    }
   },
   "cell_type": "code",
   "source": [
    "candidate_labels = [\"politics\", \"entertainment\", \"sports\", \"science\", \"technology\"]\n",
    "result = classifier(tweets, candidate_labels)"
   ],
   "id": "cab1303274da3ae3",
   "outputs": [],
   "execution_count": 19
  },
  {
   "metadata": {
    "ExecuteTime": {
     "end_time": "2025-07-22T11:50:26.011485Z",
     "start_time": "2025-07-22T11:50:26.001313Z"
    }
   },
   "cell_type": "code",
   "source": "result",
   "id": "392b92cff66f1a7d",
   "outputs": [
    {
     "data": {
      "text/plain": [
       "[{'sequence': 'Parliament just passed a bill that could reshape the tax system.',\n",
       "  'labels': ['politics', 'technology', 'entertainment', 'science', 'sports'],\n",
       "  'scores': [0.879271924495697,\n",
       "   0.048582520335912704,\n",
       "   0.027739614248275757,\n",
       "   0.02339010313153267,\n",
       "   0.021015889942646027]},\n",
       " {'sequence': 'The presidential debate last night was pure chaos. No clear winner.',\n",
       "  'labels': ['politics', 'entertainment', 'technology', 'science', 'sports'],\n",
       "  'scores': [0.827566921710968,\n",
       "   0.15098653733730316,\n",
       "   0.009403361938893795,\n",
       "   0.007997884415090084,\n",
       "   0.004045255947858095]},\n",
       " {'sequence': 'Can’t believe how good the new season of that sci-fi show is!',\n",
       "  'labels': ['entertainment', 'technology', 'science', 'sports', 'politics'],\n",
       "  'scores': [0.8352172374725342,\n",
       "   0.09594476222991943,\n",
       "   0.057527873665094376,\n",
       "   0.006406010594218969,\n",
       "   0.004904021508991718]},\n",
       " {'sequence': 'Beyoncé dropped a surprise album and it’s 🔥🔥🔥',\n",
       "  'labels': ['entertainment', 'technology', 'sports', 'science', 'politics'],\n",
       "  'scores': [0.9591140747070312,\n",
       "   0.018658965826034546,\n",
       "   0.00885689165443182,\n",
       "   0.007456646300852299,\n",
       "   0.005913371220231056]},\n",
       " {'sequence': 'That last-minute goal in the Champions League was legendary.',\n",
       "  'labels': ['sports', 'entertainment', 'technology', 'science', 'politics'],\n",
       "  'scores': [0.9386165738105774,\n",
       "   0.0373789519071579,\n",
       "   0.014426925219595432,\n",
       "   0.005482711363583803,\n",
       "   0.004094894044101238]},\n",
       " {'sequence': 'Injuries are killing our fantasy football teams this year.',\n",
       "  'labels': ['sports', 'science', 'entertainment', 'technology', 'politics'],\n",
       "  'scores': [0.9838904738426208,\n",
       "   0.00546658132225275,\n",
       "   0.004720783326774836,\n",
       "   0.00340848951600492,\n",
       "   0.0025136820040643215]},\n",
       " {'sequence': 'NASA confirmed water molecules on the sunlit surface of the Moon!',\n",
       "  'labels': ['science', 'technology', 'entertainment', 'sports', 'politics'],\n",
       "  'scores': [0.6865171790122986,\n",
       "   0.28485107421875,\n",
       "   0.018553879112005234,\n",
       "   0.006896907463669777,\n",
       "   0.0031809983775019646]},\n",
       " {'sequence': 'A new study suggests octopuses might dream. Nature is wild.',\n",
       "  'labels': ['science', 'entertainment', 'sports', 'technology', 'politics'],\n",
       "  'scores': [0.531184732913971,\n",
       "   0.3599272072315216,\n",
       "   0.04754173755645752,\n",
       "   0.037066299468278885,\n",
       "   0.024280043318867683]},\n",
       " {'sequence': 'OpenAI’s latest model just broke benchmarks in code generation.',\n",
       "  'labels': ['technology', 'science', 'entertainment', 'sports', 'politics'],\n",
       "  'scores': [0.8411282896995544,\n",
       "   0.1406209021806717,\n",
       "   0.010072956793010235,\n",
       "   0.0048668161034584045,\n",
       "   0.003311021951958537]},\n",
       " {'sequence': 'The new foldable phone actually feels like the future.',\n",
       "  'labels': ['technology', 'entertainment', 'sports', 'science', 'politics'],\n",
       "  'scores': [0.9847230315208435,\n",
       "   0.008449286222457886,\n",
       "   0.0026773896533995867,\n",
       "   0.002648459980264306,\n",
       "   0.0015017803525552154]}]"
      ]
     },
     "execution_count": 18,
     "metadata": {},
     "output_type": "execute_result"
    }
   ],
   "execution_count": 18
  },
  {
   "metadata": {},
   "cell_type": "code",
   "outputs": [],
   "execution_count": null,
   "source": "",
   "id": "61315b98c33e321d"
  }
 ],
 "metadata": {
  "kernelspec": {
   "display_name": "Python 3",
   "language": "python",
   "name": "python3"
  },
  "language_info": {
   "codemirror_mode": {
    "name": "ipython",
    "version": 2
   },
   "file_extension": ".py",
   "mimetype": "text/x-python",
   "name": "python",
   "nbconvert_exporter": "python",
   "pygments_lexer": "ipython2",
   "version": "2.7.6"
  }
 },
 "nbformat": 4,
 "nbformat_minor": 5
}
