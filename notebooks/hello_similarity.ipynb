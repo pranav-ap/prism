{
 "cells": [
  {
   "metadata": {
    "ExecuteTime": {
     "end_time": "2025-07-22T11:49:52.398360Z",
     "start_time": "2025-07-22T11:49:52.390786Z"
    }
   },
   "cell_type": "code",
   "source": [
    "tweets = [\n",
    "    # Politics\n",
    "    \"Parliament just passed a bill that could reshape the tax system.\",\n",
    "    \"The presidential debate last night was pure chaos. No clear winner.\",\n",
    "\n",
    "    # Entertainment\n",
    "    \"Can’t believe how good the new season of that sci-fi show is!\",\n",
    "    \"Beyoncé dropped a surprise album and it’s 🔥🔥🔥\",\n",
    "\n",
    "    # Sports\n",
    "    \"That last-minute goal in the Champions League was legendary.\",\n",
    "    \"Injuries are killing our fantasy football teams this year.\",\n",
    "\n",
    "    # Science\n",
    "    \"NASA confirmed water molecules on the sunlit surface of the Moon!\",\n",
    "    \"A new study suggests octopuses might dream. Nature is wild.\",\n",
    "\n",
    "    # Technology\n",
    "    \"OpenAI’s latest model just broke benchmarks in code generation.\",\n",
    "    \"The new foldable phone actually feels like the future.\",\n",
    "]"
   ],
   "id": "ad98c88c60b1d95",
   "outputs": [],
   "execution_count": 15
  },
  {
   "metadata": {
    "ExecuteTime": {
     "end_time": "2025-07-22T11:49:56.758410Z",
     "start_time": "2025-07-22T11:49:55.260693Z"
    }
   },
   "cell_type": "code",
   "source": [
    "from transformers import pipeline\n",
    "\n",
    "classifier = pipeline(\"zero-shot-classification\", model=\"facebook/bart-large-mnli\")"
   ],
   "id": "2ea641090c3d698e",
   "outputs": [
    {
     "name": "stderr",
     "output_type": "stream",
     "text": [
      "Device set to use cpu\n"
     ]
    }
   ],
   "execution_count": 16
  },
  {
   "metadata": {
    "ExecuteTime": {
     "end_time": "2025-07-22T11:50:48.777588Z",
     "start_time": "2025-07-22T11:50:39.090062Z"
    }
   },
   "cell_type": "code",
   "source": [
    "candidate_labels = [\"politics\", \"entertainment\", \"sports\", \"science\", \"technology\"]\n",
    "result = classifier(tweets, candidate_labels)"
   ],
   "id": "cab1303274da3ae3",
   "outputs": [],
   "execution_count": 19
  },
  {
   "metadata": {
    "ExecuteTime": {
     "end_time": "2025-07-22T11:50:26.011485Z",
     "start_time": "2025-07-22T11:50:26.001313Z"
    }
   },
   "cell_type": "code",
   "source": "result",
   "id": "392b92cff66f1a7d",
   "outputs": [
    {
     "data": {
      "text/plain": [
       "[{'sequence': 'Parliament just passed a bill that could reshape the tax system.',\n",
       "  'labels': ['politics', 'technology', 'entertainment', 'science', 'sports'],\n",
       "  'scores': [0.879271924495697,\n",
       "   0.048582520335912704,\n",
       "   0.027739614248275757,\n",
       "   0.02339010313153267,\n",
       "   0.021015889942646027]},\n",
       " {'sequence': 'The presidential debate last night was pure chaos. No clear winner.',\n",
       "  'labels': ['politics', 'entertainment', 'technology', 'science', 'sports'],\n",
       "  'scores': [0.827566921710968,\n",
       "   0.15098653733730316,\n",
       "   0.009403361938893795,\n",
       "   0.007997884415090084,\n",
       "   0.004045255947858095]},\n",
       " {'sequence': 'Can’t believe how good the new season of that sci-fi show is!',\n",
       "  'labels': ['entertainment', 'technology', 'science', 'sports', 'politics'],\n",
       "  'scores': [0.8352172374725342,\n",
       "   0.09594476222991943,\n",
       "   0.057527873665094376,\n",
       "   0.006406010594218969,\n",
       "   0.004904021508991718]},\n",
       " {'sequence': 'Beyoncé dropped a surprise album and it’s 🔥🔥🔥',\n",
       "  'labels': ['entertainment', 'technology', 'sports', 'science', 'politics'],\n",
       "  'scores': [0.9591140747070312,\n",
       "   0.018658965826034546,\n",
       "   0.00885689165443182,\n",
       "   0.007456646300852299,\n",
       "   0.005913371220231056]},\n",
       " {'sequence': 'That last-minute goal in the Champions League was legendary.',\n",
       "  'labels': ['sports', 'entertainment', 'technology', 'science', 'politics'],\n",
       "  'scores': [0.9386165738105774,\n",
       "   0.0373789519071579,\n",
       "   0.014426925219595432,\n",
       "   0.005482711363583803,\n",
       "   0.004094894044101238]},\n",
       " {'sequence': 'Injuries are killing our fantasy football teams this year.',\n",
       "  'labels': ['sports', 'science', 'entertainment', 'technology', 'politics'],\n",
       "  'scores': [0.9838904738426208,\n",
       "   0.00546658132225275,\n",
       "   0.004720783326774836,\n",
       "   0.00340848951600492,\n",
       "   0.0025136820040643215]},\n",
       " {'sequence': 'NASA confirmed water molecules on the sunlit surface of the Moon!',\n",
       "  'labels': ['science', 'technology', 'entertainment', 'sports', 'politics'],\n",
       "  'scores': [0.6865171790122986,\n",
       "   0.28485107421875,\n",
       "   0.018553879112005234,\n",
       "   0.006896907463669777,\n",
       "   0.0031809983775019646]},\n",
       " {'sequence': 'A new study suggests octopuses might dream. Nature is wild.',\n",
       "  'labels': ['science', 'entertainment', 'sports', 'technology', 'politics'],\n",
       "  'scores': [0.531184732913971,\n",
       "   0.3599272072315216,\n",
       "   0.04754173755645752,\n",
       "   0.037066299468278885,\n",
       "   0.024280043318867683]},\n",
       " {'sequence': 'OpenAI’s latest model just broke benchmarks in code generation.',\n",
       "  'labels': ['technology', 'science', 'entertainment', 'sports', 'politics'],\n",
       "  'scores': [0.8411282896995544,\n",
       "   0.1406209021806717,\n",
       "   0.010072956793010235,\n",
       "   0.0048668161034584045,\n",
       "   0.003311021951958537]},\n",
       " {'sequence': 'The new foldable phone actually feels like the future.',\n",
       "  'labels': ['technology', 'entertainment', 'sports', 'science', 'politics'],\n",
       "  'scores': [0.9847230315208435,\n",
       "   0.008449286222457886,\n",
       "   0.0026773896533995867,\n",
       "   0.002648459980264306,\n",
       "   0.0015017803525552154]}]"
      ]
     },
     "execution_count": 18,
     "metadata": {},
     "output_type": "execute_result"
    }
   ],
   "execution_count": 18
  },
  {
   "metadata": {
    "ExecuteTime": {
     "end_time": "2025-07-31T16:24:28.130480Z",
     "start_time": "2025-07-31T16:23:06.628312Z"
    }
   },
   "cell_type": "code",
   "source": "from sentence_transformers import SentenceTransformer",
   "id": "61315b98c33e321d",
   "outputs": [
    {
     "ename": "AttributeError",
     "evalue": "module 'pyarrow' has no attribute 'PyExtensionType'",
     "output_type": "error",
     "traceback": [
      "\u001B[31m---------------------------------------------------------------------------\u001B[39m",
      "\u001B[31mAttributeError\u001B[39m                            Traceback (most recent call last)",
      "\u001B[36mCell\u001B[39m\u001B[36m \u001B[39m\u001B[32mIn[1]\u001B[39m\u001B[32m, line 1\u001B[39m\n\u001B[32m----> \u001B[39m\u001B[32m1\u001B[39m \u001B[38;5;28;01mfrom\u001B[39;00m\u001B[38;5;250m \u001B[39m\u001B[34;01msentence_transformers\u001B[39;00m\u001B[38;5;250m \u001B[39m\u001B[38;5;28;01mimport\u001B[39;00m SentenceTransformer\n",
      "\u001B[36mFile \u001B[39m\u001B[32m~\\miniconda3\\envs\\common_env\\Lib\\site-packages\\sentence_transformers\\__init__.py:15\u001B[39m\n\u001B[32m      8\u001B[39m \u001B[38;5;28;01mimport\u001B[39;00m\u001B[38;5;250m \u001B[39m\u001B[34;01mwarnings\u001B[39;00m\n\u001B[32m     10\u001B[39m \u001B[38;5;28;01mfrom\u001B[39;00m\u001B[38;5;250m \u001B[39m\u001B[34;01msentence_transformers\u001B[39;00m\u001B[34;01m.\u001B[39;00m\u001B[34;01mbackend\u001B[39;00m\u001B[38;5;250m \u001B[39m\u001B[38;5;28;01mimport\u001B[39;00m (\n\u001B[32m     11\u001B[39m     export_dynamic_quantized_onnx_model,\n\u001B[32m     12\u001B[39m     export_optimized_onnx_model,\n\u001B[32m     13\u001B[39m     export_static_quantized_openvino_model,\n\u001B[32m     14\u001B[39m )\n\u001B[32m---> \u001B[39m\u001B[32m15\u001B[39m \u001B[38;5;28;01mfrom\u001B[39;00m\u001B[38;5;250m \u001B[39m\u001B[34;01msentence_transformers\u001B[39;00m\u001B[34;01m.\u001B[39;00m\u001B[34;01mcross_encoder\u001B[39;00m\u001B[38;5;250m \u001B[39m\u001B[38;5;28;01mimport\u001B[39;00m (\n\u001B[32m     16\u001B[39m     CrossEncoder,\n\u001B[32m     17\u001B[39m     CrossEncoderModelCardData,\n\u001B[32m     18\u001B[39m     CrossEncoderTrainer,\n\u001B[32m     19\u001B[39m     CrossEncoderTrainingArguments,\n\u001B[32m     20\u001B[39m )\n\u001B[32m     21\u001B[39m \u001B[38;5;28;01mfrom\u001B[39;00m\u001B[38;5;250m \u001B[39m\u001B[34;01msentence_transformers\u001B[39;00m\u001B[34;01m.\u001B[39;00m\u001B[34;01mdatasets\u001B[39;00m\u001B[38;5;250m \u001B[39m\u001B[38;5;28;01mimport\u001B[39;00m ParallelSentencesDataset, SentencesDataset\n\u001B[32m     22\u001B[39m \u001B[38;5;28;01mfrom\u001B[39;00m\u001B[38;5;250m \u001B[39m\u001B[34;01msentence_transformers\u001B[39;00m\u001B[34;01m.\u001B[39;00m\u001B[34;01mLoggingHandler\u001B[39;00m\u001B[38;5;250m \u001B[39m\u001B[38;5;28;01mimport\u001B[39;00m LoggingHandler\n",
      "\u001B[36mFile \u001B[39m\u001B[32m~\\miniconda3\\envs\\common_env\\Lib\\site-packages\\sentence_transformers\\cross_encoder\\__init__.py:3\u001B[39m\n\u001B[32m      1\u001B[39m \u001B[38;5;28;01mfrom\u001B[39;00m\u001B[38;5;250m \u001B[39m\u001B[34;01m__future__\u001B[39;00m\u001B[38;5;250m \u001B[39m\u001B[38;5;28;01mimport\u001B[39;00m annotations\n\u001B[32m----> \u001B[39m\u001B[32m3\u001B[39m \u001B[38;5;28;01mfrom\u001B[39;00m\u001B[38;5;250m \u001B[39m\u001B[34;01m.\u001B[39;00m\u001B[34;01mCrossEncoder\u001B[39;00m\u001B[38;5;250m \u001B[39m\u001B[38;5;28;01mimport\u001B[39;00m CrossEncoder\n\u001B[32m      4\u001B[39m \u001B[38;5;28;01mfrom\u001B[39;00m\u001B[38;5;250m \u001B[39m\u001B[34;01m.\u001B[39;00m\u001B[34;01mmodel_card\u001B[39;00m\u001B[38;5;250m \u001B[39m\u001B[38;5;28;01mimport\u001B[39;00m CrossEncoderModelCardData\n\u001B[32m      5\u001B[39m \u001B[38;5;28;01mfrom\u001B[39;00m\u001B[38;5;250m \u001B[39m\u001B[34;01m.\u001B[39;00m\u001B[34;01mtrainer\u001B[39;00m\u001B[38;5;250m \u001B[39m\u001B[38;5;28;01mimport\u001B[39;00m CrossEncoderTrainer\n",
      "\u001B[36mFile \u001B[39m\u001B[32m~\\miniconda3\\envs\\common_env\\Lib\\site-packages\\sentence_transformers\\cross_encoder\\CrossEncoder.py:31\u001B[39m\n\u001B[32m     28\u001B[39m \u001B[38;5;28;01mfrom\u001B[39;00m\u001B[38;5;250m \u001B[39m\u001B[34;01mtyping_extensions\u001B[39;00m\u001B[38;5;250m \u001B[39m\u001B[38;5;28;01mimport\u001B[39;00m deprecated\n\u001B[32m     30\u001B[39m \u001B[38;5;28;01mfrom\u001B[39;00m\u001B[38;5;250m \u001B[39m\u001B[34;01msentence_transformers\u001B[39;00m\u001B[38;5;250m \u001B[39m\u001B[38;5;28;01mimport\u001B[39;00m __version__\n\u001B[32m---> \u001B[39m\u001B[32m31\u001B[39m \u001B[38;5;28;01mfrom\u001B[39;00m\u001B[38;5;250m \u001B[39m\u001B[34;01msentence_transformers\u001B[39;00m\u001B[34;01m.\u001B[39;00m\u001B[34;01mcross_encoder\u001B[39;00m\u001B[34;01m.\u001B[39;00m\u001B[34;01mfit_mixin\u001B[39;00m\u001B[38;5;250m \u001B[39m\u001B[38;5;28;01mimport\u001B[39;00m FitMixin\n\u001B[32m     32\u001B[39m \u001B[38;5;28;01mfrom\u001B[39;00m\u001B[38;5;250m \u001B[39m\u001B[34;01msentence_transformers\u001B[39;00m\u001B[34;01m.\u001B[39;00m\u001B[34;01mcross_encoder\u001B[39;00m\u001B[34;01m.\u001B[39;00m\u001B[34;01mmodel_card\u001B[39;00m\u001B[38;5;250m \u001B[39m\u001B[38;5;28;01mimport\u001B[39;00m CrossEncoderModelCardData, generate_model_card\n\u001B[32m     33\u001B[39m \u001B[38;5;28;01mfrom\u001B[39;00m\u001B[38;5;250m \u001B[39m\u001B[34;01msentence_transformers\u001B[39;00m\u001B[34;01m.\u001B[39;00m\u001B[34;01mcross_encoder\u001B[39;00m\u001B[34;01m.\u001B[39;00m\u001B[34;01mutil\u001B[39;00m\u001B[38;5;250m \u001B[39m\u001B[38;5;28;01mimport\u001B[39;00m (\n\u001B[32m     34\u001B[39m     cross_encoder_init_args_decorator,\n\u001B[32m     35\u001B[39m     cross_encoder_predict_rank_args_decorator,\n\u001B[32m     36\u001B[39m )\n",
      "\u001B[36mFile \u001B[39m\u001B[32m~\\miniconda3\\envs\\common_env\\Lib\\site-packages\\sentence_transformers\\cross_encoder\\fit_mixin.py:19\u001B[39m\n\u001B[32m     16\u001B[39m \u001B[38;5;28;01mfrom\u001B[39;00m\u001B[38;5;250m \u001B[39m\u001B[34;01mtransformers\u001B[39;00m\u001B[34;01m.\u001B[39;00m\u001B[34;01mtokenization_utils_base\u001B[39;00m\u001B[38;5;250m \u001B[39m\u001B[38;5;28;01mimport\u001B[39;00m BatchEncoding\n\u001B[32m     18\u001B[39m \u001B[38;5;28;01mfrom\u001B[39;00m\u001B[38;5;250m \u001B[39m\u001B[34;01msentence_transformers\u001B[39;00m\u001B[34;01m.\u001B[39;00m\u001B[34;01mcross_encoder\u001B[39;00m\u001B[34;01m.\u001B[39;00m\u001B[34;01mtraining_args\u001B[39;00m\u001B[38;5;250m \u001B[39m\u001B[38;5;28;01mimport\u001B[39;00m CrossEncoderTrainingArguments\n\u001B[32m---> \u001B[39m\u001B[32m19\u001B[39m \u001B[38;5;28;01mfrom\u001B[39;00m\u001B[38;5;250m \u001B[39m\u001B[34;01msentence_transformers\u001B[39;00m\u001B[34;01m.\u001B[39;00m\u001B[34;01mdatasets\u001B[39;00m\u001B[34;01m.\u001B[39;00m\u001B[34;01mNoDuplicatesDataLoader\u001B[39;00m\u001B[38;5;250m \u001B[39m\u001B[38;5;28;01mimport\u001B[39;00m NoDuplicatesDataLoader\n\u001B[32m     20\u001B[39m \u001B[38;5;28;01mfrom\u001B[39;00m\u001B[38;5;250m \u001B[39m\u001B[34;01msentence_transformers\u001B[39;00m\u001B[34;01m.\u001B[39;00m\u001B[34;01mdatasets\u001B[39;00m\u001B[34;01m.\u001B[39;00m\u001B[34;01mSentenceLabelDataset\u001B[39;00m\u001B[38;5;250m \u001B[39m\u001B[38;5;28;01mimport\u001B[39;00m SentenceLabelDataset\n\u001B[32m     21\u001B[39m \u001B[38;5;28;01mfrom\u001B[39;00m\u001B[38;5;250m \u001B[39m\u001B[34;01msentence_transformers\u001B[39;00m\u001B[34;01m.\u001B[39;00m\u001B[34;01mevaluation\u001B[39;00m\u001B[34;01m.\u001B[39;00m\u001B[34;01mSentenceEvaluator\u001B[39;00m\u001B[38;5;250m \u001B[39m\u001B[38;5;28;01mimport\u001B[39;00m SentenceEvaluator\n",
      "\u001B[36mFile \u001B[39m\u001B[32m~\\miniconda3\\envs\\common_env\\Lib\\site-packages\\sentence_transformers\\datasets\\__init__.py:13\u001B[39m\n\u001B[32m     11\u001B[39m \u001B[38;5;28;01mfrom\u001B[39;00m\u001B[38;5;250m \u001B[39m\u001B[34;01m.\u001B[39;00m\u001B[34;01mDenoisingAutoEncoderDataset\u001B[39;00m\u001B[38;5;250m \u001B[39m\u001B[38;5;28;01mimport\u001B[39;00m DenoisingAutoEncoderDataset\n\u001B[32m     12\u001B[39m \u001B[38;5;28;01mfrom\u001B[39;00m\u001B[38;5;250m \u001B[39m\u001B[34;01m.\u001B[39;00m\u001B[34;01mNoDuplicatesDataLoader\u001B[39;00m\u001B[38;5;250m \u001B[39m\u001B[38;5;28;01mimport\u001B[39;00m NoDuplicatesDataLoader\n\u001B[32m---> \u001B[39m\u001B[32m13\u001B[39m \u001B[38;5;28;01mfrom\u001B[39;00m\u001B[38;5;250m \u001B[39m\u001B[34;01m.\u001B[39;00m\u001B[34;01mParallelSentencesDataset\u001B[39;00m\u001B[38;5;250m \u001B[39m\u001B[38;5;28;01mimport\u001B[39;00m ParallelSentencesDataset\n\u001B[32m     14\u001B[39m \u001B[38;5;28;01mfrom\u001B[39;00m\u001B[38;5;250m \u001B[39m\u001B[34;01m.\u001B[39;00m\u001B[34;01mSentenceLabelDataset\u001B[39;00m\u001B[38;5;250m \u001B[39m\u001B[38;5;28;01mimport\u001B[39;00m SentenceLabelDataset\n\u001B[32m     15\u001B[39m \u001B[38;5;28;01mfrom\u001B[39;00m\u001B[38;5;250m \u001B[39m\u001B[34;01m.\u001B[39;00m\u001B[34;01mSentencesDataset\u001B[39;00m\u001B[38;5;250m \u001B[39m\u001B[38;5;28;01mimport\u001B[39;00m SentencesDataset\n",
      "\u001B[36mFile \u001B[39m\u001B[32m~\\miniconda3\\envs\\common_env\\Lib\\site-packages\\sentence_transformers\\datasets\\ParallelSentencesDataset.py:19\u001B[39m\n\u001B[32m     15\u001B[39m \u001B[38;5;28;01mimport\u001B[39;00m\u001B[38;5;250m \u001B[39m\u001B[34;01mrandom\u001B[39;00m\n\u001B[32m     17\u001B[39m \u001B[38;5;28;01mfrom\u001B[39;00m\u001B[38;5;250m \u001B[39m\u001B[34;01mtorch\u001B[39;00m\u001B[34;01m.\u001B[39;00m\u001B[34;01mutils\u001B[39;00m\u001B[34;01m.\u001B[39;00m\u001B[34;01mdata\u001B[39;00m\u001B[38;5;250m \u001B[39m\u001B[38;5;28;01mimport\u001B[39;00m Dataset\n\u001B[32m---> \u001B[39m\u001B[32m19\u001B[39m \u001B[38;5;28;01mfrom\u001B[39;00m\u001B[38;5;250m \u001B[39m\u001B[34;01msentence_transformers\u001B[39;00m\u001B[38;5;250m \u001B[39m\u001B[38;5;28;01mimport\u001B[39;00m SentenceTransformer\n\u001B[32m     20\u001B[39m \u001B[38;5;28;01mfrom\u001B[39;00m\u001B[38;5;250m \u001B[39m\u001B[34;01msentence_transformers\u001B[39;00m\u001B[34;01m.\u001B[39;00m\u001B[34;01mreaders\u001B[39;00m\u001B[38;5;250m \u001B[39m\u001B[38;5;28;01mimport\u001B[39;00m InputExample\n\u001B[32m     22\u001B[39m logger = logging.getLogger(\u001B[34m__name__\u001B[39m)\n",
      "\u001B[36mFile \u001B[39m\u001B[32m~\\miniconda3\\envs\\common_env\\Lib\\site-packages\\sentence_transformers\\SentenceTransformer.py:36\u001B[39m\n\u001B[32m     33\u001B[39m \u001B[38;5;28;01mfrom\u001B[39;00m\u001B[38;5;250m \u001B[39m\u001B[34;01mtransformers\u001B[39;00m\u001B[34;01m.\u001B[39;00m\u001B[34;01mdynamic_module_utils\u001B[39;00m\u001B[38;5;250m \u001B[39m\u001B[38;5;28;01mimport\u001B[39;00m get_class_from_dynamic_module, get_relative_import_files\n\u001B[32m     34\u001B[39m \u001B[38;5;28;01mfrom\u001B[39;00m\u001B[38;5;250m \u001B[39m\u001B[34;01mtyping_extensions\u001B[39;00m\u001B[38;5;250m \u001B[39m\u001B[38;5;28;01mimport\u001B[39;00m deprecated\n\u001B[32m---> \u001B[39m\u001B[32m36\u001B[39m \u001B[38;5;28;01mfrom\u001B[39;00m\u001B[38;5;250m \u001B[39m\u001B[34;01msentence_transformers\u001B[39;00m\u001B[34;01m.\u001B[39;00m\u001B[34;01mmodel_card\u001B[39;00m\u001B[38;5;250m \u001B[39m\u001B[38;5;28;01mimport\u001B[39;00m SentenceTransformerModelCardData, generate_model_card\n\u001B[32m     37\u001B[39m \u001B[38;5;28;01mfrom\u001B[39;00m\u001B[38;5;250m \u001B[39m\u001B[34;01msentence_transformers\u001B[39;00m\u001B[34;01m.\u001B[39;00m\u001B[34;01mmodels\u001B[39;00m\u001B[38;5;250m \u001B[39m\u001B[38;5;28;01mimport\u001B[39;00m Router\n\u001B[32m     38\u001B[39m \u001B[38;5;28;01mfrom\u001B[39;00m\u001B[38;5;250m \u001B[39m\u001B[34;01msentence_transformers\u001B[39;00m\u001B[34;01m.\u001B[39;00m\u001B[34;01mmodels\u001B[39;00m\u001B[34;01m.\u001B[39;00m\u001B[34;01mModule\u001B[39;00m\u001B[38;5;250m \u001B[39m\u001B[38;5;28;01mimport\u001B[39;00m Module\n",
      "\u001B[36mFile \u001B[39m\u001B[32m~\\miniconda3\\envs\\common_env\\Lib\\site-packages\\sentence_transformers\\model_card.py:37\u001B[39m\n\u001B[32m     34\u001B[39m \u001B[38;5;28;01mfrom\u001B[39;00m\u001B[38;5;250m \u001B[39m\u001B[34;01msentence_transformers\u001B[39;00m\u001B[34;01m.\u001B[39;00m\u001B[34;01mutil\u001B[39;00m\u001B[38;5;250m \u001B[39m\u001B[38;5;28;01mimport\u001B[39;00m fullname, is_accelerate_available, is_datasets_available\n\u001B[32m     36\u001B[39m \u001B[38;5;28;01mif\u001B[39;00m is_datasets_available():\n\u001B[32m---> \u001B[39m\u001B[32m37\u001B[39m     \u001B[38;5;28;01mfrom\u001B[39;00m\u001B[38;5;250m \u001B[39m\u001B[34;01mdatasets\u001B[39;00m\u001B[38;5;250m \u001B[39m\u001B[38;5;28;01mimport\u001B[39;00m Dataset, DatasetDict, IterableDataset, IterableDatasetDict, Value\n\u001B[32m     39\u001B[39m logger = logging.getLogger(\u001B[34m__name__\u001B[39m)\n\u001B[32m     41\u001B[39m \u001B[38;5;28;01mif\u001B[39;00m TYPE_CHECKING:\n",
      "\u001B[36mFile \u001B[39m\u001B[32m~\\miniconda3\\envs\\common_env\\Lib\\site-packages\\datasets\\__init__.py:22\u001B[39m\n\u001B[32m      1\u001B[39m \u001B[38;5;66;03m# flake8: noqa\u001B[39;00m\n\u001B[32m      2\u001B[39m \u001B[38;5;66;03m# Copyright 2020 The HuggingFace Datasets Authors and the TensorFlow Datasets Authors.\u001B[39;00m\n\u001B[32m      3\u001B[39m \u001B[38;5;66;03m#\u001B[39;00m\n\u001B[32m   (...)\u001B[39m\u001B[32m     17\u001B[39m \u001B[38;5;66;03m# pylint: enable=line-too-long\u001B[39;00m\n\u001B[32m     18\u001B[39m \u001B[38;5;66;03m# pylint: disable=g-import-not-at-top,g-bad-import-order,wrong-import-position\u001B[39;00m\n\u001B[32m     20\u001B[39m __version__ = \u001B[33m\"\u001B[39m\u001B[33m2.14.4\u001B[39m\u001B[33m\"\u001B[39m\n\u001B[32m---> \u001B[39m\u001B[32m22\u001B[39m \u001B[38;5;28;01mfrom\u001B[39;00m\u001B[38;5;250m \u001B[39m\u001B[34;01m.\u001B[39;00m\u001B[34;01marrow_dataset\u001B[39;00m\u001B[38;5;250m \u001B[39m\u001B[38;5;28;01mimport\u001B[39;00m Dataset\n\u001B[32m     23\u001B[39m \u001B[38;5;28;01mfrom\u001B[39;00m\u001B[38;5;250m \u001B[39m\u001B[34;01m.\u001B[39;00m\u001B[34;01marrow_reader\u001B[39;00m\u001B[38;5;250m \u001B[39m\u001B[38;5;28;01mimport\u001B[39;00m ReadInstruction\n\u001B[32m     24\u001B[39m \u001B[38;5;28;01mfrom\u001B[39;00m\u001B[38;5;250m \u001B[39m\u001B[34;01m.\u001B[39;00m\u001B[34;01mbuilder\u001B[39;00m\u001B[38;5;250m \u001B[39m\u001B[38;5;28;01mimport\u001B[39;00m ArrowBasedBuilder, BeamBasedBuilder, BuilderConfig, DatasetBuilder, GeneratorBasedBuilder\n",
      "\u001B[36mFile \u001B[39m\u001B[32m~\\miniconda3\\envs\\common_env\\Lib\\site-packages\\datasets\\arrow_dataset.py:67\u001B[39m\n\u001B[32m     65\u001B[39m \u001B[38;5;28;01mfrom\u001B[39;00m\u001B[38;5;250m \u001B[39m\u001B[34;01m.\u001B[39;00m\u001B[38;5;250m \u001B[39m\u001B[38;5;28;01mimport\u001B[39;00m config\n\u001B[32m     66\u001B[39m \u001B[38;5;28;01mfrom\u001B[39;00m\u001B[38;5;250m \u001B[39m\u001B[34;01m.\u001B[39;00m\u001B[34;01marrow_reader\u001B[39;00m\u001B[38;5;250m \u001B[39m\u001B[38;5;28;01mimport\u001B[39;00m ArrowReader\n\u001B[32m---> \u001B[39m\u001B[32m67\u001B[39m \u001B[38;5;28;01mfrom\u001B[39;00m\u001B[38;5;250m \u001B[39m\u001B[34;01m.\u001B[39;00m\u001B[34;01marrow_writer\u001B[39;00m\u001B[38;5;250m \u001B[39m\u001B[38;5;28;01mimport\u001B[39;00m ArrowWriter, OptimizedTypedSequence\n\u001B[32m     68\u001B[39m \u001B[38;5;28;01mfrom\u001B[39;00m\u001B[38;5;250m \u001B[39m\u001B[34;01m.\u001B[39;00m\u001B[34;01mdata_files\u001B[39;00m\u001B[38;5;250m \u001B[39m\u001B[38;5;28;01mimport\u001B[39;00m sanitize_patterns\n\u001B[32m     69\u001B[39m \u001B[38;5;28;01mfrom\u001B[39;00m\u001B[38;5;250m \u001B[39m\u001B[34;01m.\u001B[39;00m\u001B[34;01mdownload\u001B[39;00m\u001B[34;01m.\u001B[39;00m\u001B[34;01mdownload_config\u001B[39;00m\u001B[38;5;250m \u001B[39m\u001B[38;5;28;01mimport\u001B[39;00m DownloadConfig\n",
      "\u001B[36mFile \u001B[39m\u001B[32m~\\miniconda3\\envs\\common_env\\Lib\\site-packages\\datasets\\arrow_writer.py:27\u001B[39m\n\u001B[32m     24\u001B[39m \u001B[38;5;28;01mimport\u001B[39;00m\u001B[38;5;250m \u001B[39m\u001B[34;01mpyarrow\u001B[39;00m\u001B[34;01m.\u001B[39;00m\u001B[34;01mparquet\u001B[39;00m\u001B[38;5;250m \u001B[39m\u001B[38;5;28;01mas\u001B[39;00m\u001B[38;5;250m \u001B[39m\u001B[34;01mpq\u001B[39;00m\n\u001B[32m     26\u001B[39m \u001B[38;5;28;01mfrom\u001B[39;00m\u001B[38;5;250m \u001B[39m\u001B[34;01m.\u001B[39;00m\u001B[38;5;250m \u001B[39m\u001B[38;5;28;01mimport\u001B[39;00m config\n\u001B[32m---> \u001B[39m\u001B[32m27\u001B[39m \u001B[38;5;28;01mfrom\u001B[39;00m\u001B[38;5;250m \u001B[39m\u001B[34;01m.\u001B[39;00m\u001B[34;01mfeatures\u001B[39;00m\u001B[38;5;250m \u001B[39m\u001B[38;5;28;01mimport\u001B[39;00m Features, Image, Value\n\u001B[32m     28\u001B[39m \u001B[38;5;28;01mfrom\u001B[39;00m\u001B[38;5;250m \u001B[39m\u001B[34;01m.\u001B[39;00m\u001B[34;01mfeatures\u001B[39;00m\u001B[34;01m.\u001B[39;00m\u001B[34;01mfeatures\u001B[39;00m\u001B[38;5;250m \u001B[39m\u001B[38;5;28;01mimport\u001B[39;00m (\n\u001B[32m     29\u001B[39m     FeatureType,\n\u001B[32m     30\u001B[39m     _ArrayXDExtensionType,\n\u001B[32m   (...)\u001B[39m\u001B[32m     36\u001B[39m     to_pyarrow_listarray,\n\u001B[32m     37\u001B[39m )\n\u001B[32m     38\u001B[39m \u001B[38;5;28;01mfrom\u001B[39;00m\u001B[38;5;250m \u001B[39m\u001B[34;01m.\u001B[39;00m\u001B[34;01mfilesystems\u001B[39;00m\u001B[38;5;250m \u001B[39m\u001B[38;5;28;01mimport\u001B[39;00m is_remote_filesystem\n",
      "\u001B[36mFile \u001B[39m\u001B[32m~\\miniconda3\\envs\\common_env\\Lib\\site-packages\\datasets\\features\\__init__.py:18\u001B[39m\n\u001B[32m      3\u001B[39m __all__ = [\n\u001B[32m      4\u001B[39m     \u001B[33m\"\u001B[39m\u001B[33mAudio\u001B[39m\u001B[33m\"\u001B[39m,\n\u001B[32m      5\u001B[39m     \u001B[33m\"\u001B[39m\u001B[33mArray2D\u001B[39m\u001B[33m\"\u001B[39m,\n\u001B[32m   (...)\u001B[39m\u001B[32m     15\u001B[39m     \u001B[33m\"\u001B[39m\u001B[33mTranslationVariableLanguages\u001B[39m\u001B[33m\"\u001B[39m,\n\u001B[32m     16\u001B[39m ]\n\u001B[32m     17\u001B[39m \u001B[38;5;28;01mfrom\u001B[39;00m\u001B[38;5;250m \u001B[39m\u001B[34;01m.\u001B[39;00m\u001B[34;01maudio\u001B[39;00m\u001B[38;5;250m \u001B[39m\u001B[38;5;28;01mimport\u001B[39;00m Audio\n\u001B[32m---> \u001B[39m\u001B[32m18\u001B[39m \u001B[38;5;28;01mfrom\u001B[39;00m\u001B[38;5;250m \u001B[39m\u001B[34;01m.\u001B[39;00m\u001B[34;01mfeatures\u001B[39;00m\u001B[38;5;250m \u001B[39m\u001B[38;5;28;01mimport\u001B[39;00m Array2D, Array3D, Array4D, Array5D, ClassLabel, Features, Sequence, Value\n\u001B[32m     19\u001B[39m \u001B[38;5;28;01mfrom\u001B[39;00m\u001B[38;5;250m \u001B[39m\u001B[34;01m.\u001B[39;00m\u001B[34;01mimage\u001B[39;00m\u001B[38;5;250m \u001B[39m\u001B[38;5;28;01mimport\u001B[39;00m Image\n\u001B[32m     20\u001B[39m \u001B[38;5;28;01mfrom\u001B[39;00m\u001B[38;5;250m \u001B[39m\u001B[34;01m.\u001B[39;00m\u001B[34;01mtranslation\u001B[39;00m\u001B[38;5;250m \u001B[39m\u001B[38;5;28;01mimport\u001B[39;00m Translation, TranslationVariableLanguages\n",
      "\u001B[36mFile \u001B[39m\u001B[32m~\\miniconda3\\envs\\common_env\\Lib\\site-packages\\datasets\\features\\features.py:634\u001B[39m\n\u001B[32m    630\u001B[39m     \u001B[38;5;66;03m# Automatically constructed\u001B[39;00m\n\u001B[32m    631\u001B[39m     _type: \u001B[38;5;28mstr\u001B[39m = field(default=\u001B[33m\"\u001B[39m\u001B[33mArray5D\u001B[39m\u001B[33m\"\u001B[39m, init=\u001B[38;5;28;01mFalse\u001B[39;00m, \u001B[38;5;28mrepr\u001B[39m=\u001B[38;5;28;01mFalse\u001B[39;00m)\n\u001B[32m--> \u001B[39m\u001B[32m634\u001B[39m \u001B[38;5;28;01mclass\u001B[39;00m\u001B[38;5;250m \u001B[39m\u001B[34;01m_ArrayXDExtensionType\u001B[39;00m(pa.PyExtensionType):\n\u001B[32m    635\u001B[39m     ndims: Optional[\u001B[38;5;28mint\u001B[39m] = \u001B[38;5;28;01mNone\u001B[39;00m\n\u001B[32m    637\u001B[39m     \u001B[38;5;28;01mdef\u001B[39;00m\u001B[38;5;250m \u001B[39m\u001B[34m__init__\u001B[39m(\u001B[38;5;28mself\u001B[39m, shape: \u001B[38;5;28mtuple\u001B[39m, dtype: \u001B[38;5;28mstr\u001B[39m):\n",
      "\u001B[31mAttributeError\u001B[39m: module 'pyarrow' has no attribute 'PyExtensionType'"
     ]
    }
   ],
   "execution_count": 1
  },
  {
   "metadata": {},
   "cell_type": "code",
   "outputs": [],
   "execution_count": null,
   "source": "",
   "id": "93c1b074aa20bc8d"
  }
 ],
 "metadata": {
  "kernelspec": {
   "display_name": "Python 3",
   "language": "python",
   "name": "python3"
  },
  "language_info": {
   "codemirror_mode": {
    "name": "ipython",
    "version": 2
   },
   "file_extension": ".py",
   "mimetype": "text/x-python",
   "name": "python",
   "nbconvert_exporter": "python",
   "pygments_lexer": "ipython2",
   "version": "2.7.6"
  }
 },
 "nbformat": 4,
 "nbformat_minor": 5
}
